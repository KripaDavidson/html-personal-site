{
  "nbformat": 4,
  "nbformat_minor": 0,
  "metadata": {
    "colab": {
      "provenance": [],
      "authorship_tag": "ABX9TyMvvRalgkycxrFPXE9wzfIR",
      "include_colab_link": true
    },
    "kernelspec": {
      "name": "python3",
      "display_name": "Python 3"
    },
    "language_info": {
      "name": "python"
    }
  },
  "cells": [
    {
      "cell_type": "markdown",
      "metadata": {
        "id": "view-in-github",
        "colab_type": "text"
      },
      "source": [
        "<a href=\"https://colab.research.google.com/github/KripaDavidson/html-personal-site/blob/master/countdown_clock_and_timer.ipynb\" target=\"_parent\"><img src=\"https://colab.research.google.com/assets/colab-badge.svg\" alt=\"Open In Colab\"/></a>"
      ]
    },
    {
      "cell_type": "code",
      "execution_count": 1,
      "metadata": {
        "colab": {
          "base_uri": "https://localhost:8080/"
        },
        "id": "VCWdUux96dHg",
        "outputId": "b4cba3a3-330e-41a1-c15f-e11bb9b1badc"
      },
      "outputs": [
        {
          "output_type": "stream",
          "name": "stdout",
          "text": [
            "Enter a time in seconds: 128\n",
            "Lift off!\n"
          ]
        }
      ],
      "source": [
        "import time\n",
        "\n",
        "\n",
        "def countdown(user_time):\n",
        "   while user_time >= 0:\n",
        "       mins, secs = divmod(user_time, 60)\n",
        "       timer = '{:02d}:{:02d}'.format(mins, secs)\n",
        "       print(timer, end='\\r')\n",
        "       time.sleep(1)\n",
        "       user_time -= 1\n",
        "   print('Lift off!')\n",
        "\n",
        "\n",
        "if __name__ == '__main__':\n",
        "   user_time = int(input(\"Enter a time in seconds: \"))\n",
        "   countdown(user_time)"
      ]
    },
    {
      "cell_type": "markdown",
      "source": [],
      "metadata": {
        "id": "PyJRn6up63A2"
      }
    }
  ]
}