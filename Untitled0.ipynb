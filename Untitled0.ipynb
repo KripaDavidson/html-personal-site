{
  "nbformat": 4,
  "nbformat_minor": 0,
  "metadata": {
    "colab": {
      "provenance": [],
      "authorship_tag": "ABX9TyMKD/pCQxFQD3axtjVVSysc",
      "include_colab_link": true
    },
    "kernelspec": {
      "name": "python3",
      "display_name": "Python 3"
    },
    "language_info": {
      "name": "python"
    }
  },
  "cells": [
    {
      "cell_type": "markdown",
      "metadata": {
        "id": "view-in-github",
        "colab_type": "text"
      },
      "source": [
        "<a href=\"https://colab.research.google.com/github/KripaDavidson/html-personal-site/blob/master/Untitled0.ipynb\" target=\"_parent\"><img src=\"https://colab.research.google.com/assets/colab-badge.svg\" alt=\"Open In Colab\"/></a>"
      ]
    },
    {
      "cell_type": "code",
      "execution_count": 1,
      "metadata": {
        "colab": {
          "base_uri": "https://localhost:8080/"
        },
        "id": "pAlFDmnxSMop",
        "outputId": "fb88a36f-5c0d-4747-8cad-7eb490b5ab5c"
      },
      "outputs": [
        {
          "name": "stdout",
          "output_type": "stream",
          "text": [
            " 1. roll the dice             2. exit     \n",
            "what you want to do\n",
            "1\n",
            "3\n",
            " 1. roll the dice             2. exit     \n",
            "what you want to do\n",
            "1\n",
            "1\n",
            " 1. roll the dice             2. exit     \n",
            "what you want to do\n",
            "2\n"
          ]
        }
      ],
      "source": [
        "import random\n",
        "while True:\n",
        "     print(''' 1. roll the dice             2. exit     ''')\n",
        "     user = int(input(\"what you want to do\\n\"))\n",
        "     if user==1:\n",
        "        number = random.randint(1,6)\n",
        "        print(number)\n",
        "     else:\n",
        "        break"
      ]
    }
  ]
}